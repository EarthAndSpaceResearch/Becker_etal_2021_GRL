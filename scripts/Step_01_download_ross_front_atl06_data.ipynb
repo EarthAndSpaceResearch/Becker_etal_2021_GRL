{
 "cells": [
  {
   "cell_type": "markdown",
   "metadata": {},
   "source": [
    "## Download ICESat-2 ATL06 files in the vicinity of the Ross Ice Shelf (RIS) front as in Becker et al. (2021)"
   ]
  },
  {
   "cell_type": "markdown",
   "metadata": {},
   "source": [
    "This notebook uses the icepyx library (Scheick et al., 2019; https://github.com/icesat2py/icepyx) to download spatially and temporally subsetted ATL06 granules from the National Snow and Ice Data Center. Running this notebook should result in the download of these granules in the location defined by the variable 'path' in the last code block. The user should adjust the path according to their own workflow.\n",
    "\n",
    "This script implements the ATL06-specific methods described in Subsection 2.2 of Becker et al. (2021).\n",
    "\n",
    "Susan L. Howard, Earth and Space Research, showard@esr.org\n",
    "\n",
    "Maya K. Becker, Scripps Institution of Oceanography, mayakbecker@gmail.com\n",
    "\n",
    "Last updated  April 15, 2021"
   ]
  },
  {
   "cell_type": "code",
   "execution_count": 2,
   "metadata": {},
   "outputs": [],
   "source": [
    "import icepyx as ipx\n",
    "import os\n",
    "import shutil\n",
    "from pprint import pprint\n",
    "\n",
    "%matplotlib inline"
   ]
  },
  {
   "cell_type": "markdown",
   "metadata": {},
   "source": [
    "### Specify ATL06 as the data set of interest, and define the spatial and temporal subsetting parameters for the RIS front region. Apply icepyx's Query class to specify the region of interest, and verify that the Query operation worked correctly by examining some of the characteristics of the resulting object."
   ]
  },
  {
   "cell_type": "code",
   "execution_count": 3,
   "metadata": {
    "scrolled": true
   },
   "outputs": [
    {
     "name": "stdout",
     "output_type": "stream",
     "text": [
      "ATL06\n",
      "['2018-10-13', '2020-07-16']\n",
      "00:00:00\n",
      "23:59:59\n",
      "003\n",
      "['bounding box', [163.5, -78.9, -157.5, -77]]\n"
     ]
    }
   ],
   "source": [
    "short_name = 'ATL06'\n",
    "spatial_extent = [163.5, -78.9, -157.5, -77]\n",
    "date_range = ['2018-10-13','2020-07-16']\n",
    "\n",
    "ross_data = ipx.Query(short_name, spatial_extent, date_range)\n",
    "\n",
    "print(ross_data.dataset)\n",
    "print(ross_data.dates)\n",
    "print(ross_data.start_time)\n",
    "print(ross_data.end_time)\n",
    "print(ross_data.dataset_version)\n",
    "print(ross_data.spatial_extent)"
   ]
  },
  {
   "cell_type": "markdown",
   "metadata": {},
   "source": [
    "### Log in to NASA Earthdata account—the user should specify 'username' and 'email'"
   ]
  },
  {
   "cell_type": "code",
   "execution_count": 4,
   "metadata": {},
   "outputs": [
    {
     "name": "stdout",
     "output_type": "stream",
     "text": [
      "Earthdata Login password: ········\n"
     ]
    }
   ],
   "source": [
    "ross_data.earthdata_login('username','email')"
   ]
  },
  {
   "cell_type": "markdown",
   "metadata": {},
   "source": [
    "### Check the total number of granules available that meet the Query object's parameters, as well as their average and total size. If desired, print the granule IDs by setting the 'ids' parameter to 'True.'"
   ]
  },
  {
   "cell_type": "code",
   "execution_count": 5,
   "metadata": {},
   "outputs": [
    {
     "data": {
      "text/plain": [
       "{'Number of available granules': 2097,\n",
       " 'Average size of granules (MB)': 12.021662263683309,\n",
       " 'Total size of all granules (MB)': 25209.425766943907}"
      ]
     },
     "execution_count": 5,
     "metadata": {},
     "output_type": "execute_result"
    }
   ],
   "source": [
    "ross_data.avail_granules()"
   ]
  },
  {
   "cell_type": "markdown",
   "metadata": {},
   "source": [
    "### Order all granules that meet the Query object's parameters, in this case without any variable subsetting"
   ]
  },
  {
   "cell_type": "code",
   "execution_count": null,
   "metadata": {},
   "outputs": [],
   "source": [
    "ross_data.order_granules()"
   ]
  },
  {
   "cell_type": "markdown",
   "metadata": {},
   "source": [
    "### Download all granules. The user should change the path variable to reflect their desired download location."
   ]
  },
  {
   "cell_type": "code",
   "execution_count": null,
   "metadata": {},
   "outputs": [],
   "source": [
    "path = './ross_data_download'\n",
    "\n",
    "ross_data.download_granules(path)"
   ]
  }
 ],
 "metadata": {
  "kernelspec": {
   "display_name": "Python 3",
   "language": "python",
   "name": "python3"
  },
  "language_info": {
   "codemirror_mode": {
    "name": "ipython",
    "version": 3
   },
   "file_extension": ".py",
   "mimetype": "text/x-python",
   "name": "python",
   "nbconvert_exporter": "python",
   "pygments_lexer": "ipython3",
   "version": "3.7.8"
  }
 },
 "nbformat": 4,
 "nbformat_minor": 4
}
